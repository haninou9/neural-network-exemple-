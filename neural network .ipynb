{
 "cells": [
  {
   "cell_type": "markdown",
   "metadata": {},
   "source": [
    "# EL RAKAAWI HANI \n"
   ]
  },
  {
   "cell_type": "markdown",
   "metadata": {},
   "source": [
    " \n",
    "# 5 janvier 2023 "
   ]
  },
  {
   "cell_type": "markdown",
   "metadata": {},
   "source": [
    "#  - etape1  :"
   ]
  },
  {
   "cell_type": "markdown",
   "metadata": {},
   "source": [
    "# 1. telechargement de la base de donnees :(download dataset)"
   ]
  },
  {
   "cell_type": "code",
   "execution_count": 282,
   "metadata": {},
   "outputs": [
    {
     "data": {
      "text/html": [
       "<div>\n",
       "<style scoped>\n",
       "    .dataframe tbody tr th:only-of-type {\n",
       "        vertical-align: middle;\n",
       "    }\n",
       "\n",
       "    .dataframe tbody tr th {\n",
       "        vertical-align: top;\n",
       "    }\n",
       "\n",
       "    .dataframe thead th {\n",
       "        text-align: right;\n",
       "    }\n",
       "</style>\n",
       "<table border=\"1\" class=\"dataframe\">\n",
       "  <thead>\n",
       "    <tr style=\"text-align: right;\">\n",
       "      <th></th>\n",
       "      <th>wf_make</th>\n",
       "      <th>wf_address</th>\n",
       "      <th>wf_all</th>\n",
       "      <th>wf_3d</th>\n",
       "      <th>wf_our</th>\n",
       "      <th>wf_over</th>\n",
       "      <th>wf_remove</th>\n",
       "      <th>wf_internet</th>\n",
       "      <th>wf_order</th>\n",
       "      <th>wf_mail</th>\n",
       "      <th>...</th>\n",
       "      <th>cf_bracket</th>\n",
       "      <th>cf_sqbracket</th>\n",
       "      <th>cf_exclam</th>\n",
       "      <th>cf_dollar</th>\n",
       "      <th>cf_hash</th>\n",
       "      <th>capital_run_length_average</th>\n",
       "      <th>capital_run_length_longest</th>\n",
       "      <th>capital_run_length_total</th>\n",
       "      <th>spam</th>\n",
       "      <th>status</th>\n",
       "    </tr>\n",
       "  </thead>\n",
       "  <tbody>\n",
       "    <tr>\n",
       "      <th>0</th>\n",
       "      <td>0.00</td>\n",
       "      <td>0.52</td>\n",
       "      <td>0.52</td>\n",
       "      <td>0.0</td>\n",
       "      <td>0.52</td>\n",
       "      <td>0.00</td>\n",
       "      <td>0.00</td>\n",
       "      <td>0.00</td>\n",
       "      <td>0.00</td>\n",
       "      <td>0.00</td>\n",
       "      <td>...</td>\n",
       "      <td>0.192</td>\n",
       "      <td>0.000</td>\n",
       "      <td>0.867</td>\n",
       "      <td>0.000</td>\n",
       "      <td>0.000</td>\n",
       "      <td>2.220</td>\n",
       "      <td>20</td>\n",
       "      <td>131</td>\n",
       "      <td>yes</td>\n",
       "      <td>train</td>\n",
       "    </tr>\n",
       "    <tr>\n",
       "      <th>1</th>\n",
       "      <td>0.00</td>\n",
       "      <td>0.00</td>\n",
       "      <td>0.00</td>\n",
       "      <td>0.0</td>\n",
       "      <td>0.00</td>\n",
       "      <td>0.00</td>\n",
       "      <td>0.00</td>\n",
       "      <td>0.00</td>\n",
       "      <td>0.00</td>\n",
       "      <td>0.00</td>\n",
       "      <td>...</td>\n",
       "      <td>0.000</td>\n",
       "      <td>0.000</td>\n",
       "      <td>0.398</td>\n",
       "      <td>0.000</td>\n",
       "      <td>0.000</td>\n",
       "      <td>1.181</td>\n",
       "      <td>5</td>\n",
       "      <td>26</td>\n",
       "      <td>no</td>\n",
       "      <td>train</td>\n",
       "    </tr>\n",
       "    <tr>\n",
       "      <th>2</th>\n",
       "      <td>0.00</td>\n",
       "      <td>0.00</td>\n",
       "      <td>0.66</td>\n",
       "      <td>0.0</td>\n",
       "      <td>0.00</td>\n",
       "      <td>0.66</td>\n",
       "      <td>0.00</td>\n",
       "      <td>0.00</td>\n",
       "      <td>0.00</td>\n",
       "      <td>0.00</td>\n",
       "      <td>...</td>\n",
       "      <td>0.000</td>\n",
       "      <td>0.000</td>\n",
       "      <td>0.000</td>\n",
       "      <td>0.000</td>\n",
       "      <td>0.000</td>\n",
       "      <td>1.142</td>\n",
       "      <td>4</td>\n",
       "      <td>56</td>\n",
       "      <td>no</td>\n",
       "      <td>train</td>\n",
       "    </tr>\n",
       "    <tr>\n",
       "      <th>3</th>\n",
       "      <td>0.08</td>\n",
       "      <td>0.00</td>\n",
       "      <td>0.16</td>\n",
       "      <td>0.0</td>\n",
       "      <td>0.00</td>\n",
       "      <td>0.08</td>\n",
       "      <td>0.00</td>\n",
       "      <td>0.08</td>\n",
       "      <td>0.73</td>\n",
       "      <td>0.00</td>\n",
       "      <td>...</td>\n",
       "      <td>0.172</td>\n",
       "      <td>0.057</td>\n",
       "      <td>0.000</td>\n",
       "      <td>0.022</td>\n",
       "      <td>0.000</td>\n",
       "      <td>3.212</td>\n",
       "      <td>44</td>\n",
       "      <td>665</td>\n",
       "      <td>no</td>\n",
       "      <td>train</td>\n",
       "    </tr>\n",
       "    <tr>\n",
       "      <th>4</th>\n",
       "      <td>0.00</td>\n",
       "      <td>0.00</td>\n",
       "      <td>0.00</td>\n",
       "      <td>0.0</td>\n",
       "      <td>0.00</td>\n",
       "      <td>0.00</td>\n",
       "      <td>0.00</td>\n",
       "      <td>0.00</td>\n",
       "      <td>0.00</td>\n",
       "      <td>0.00</td>\n",
       "      <td>...</td>\n",
       "      <td>0.000</td>\n",
       "      <td>0.000</td>\n",
       "      <td>0.000</td>\n",
       "      <td>0.000</td>\n",
       "      <td>0.000</td>\n",
       "      <td>1.000</td>\n",
       "      <td>1</td>\n",
       "      <td>3</td>\n",
       "      <td>no</td>\n",
       "      <td>train</td>\n",
       "    </tr>\n",
       "    <tr>\n",
       "      <th>5</th>\n",
       "      <td>0.00</td>\n",
       "      <td>0.36</td>\n",
       "      <td>0.00</td>\n",
       "      <td>0.0</td>\n",
       "      <td>0.00</td>\n",
       "      <td>0.36</td>\n",
       "      <td>1.47</td>\n",
       "      <td>0.00</td>\n",
       "      <td>0.00</td>\n",
       "      <td>0.36</td>\n",
       "      <td>...</td>\n",
       "      <td>0.183</td>\n",
       "      <td>0.000</td>\n",
       "      <td>0.367</td>\n",
       "      <td>0.061</td>\n",
       "      <td>0.122</td>\n",
       "      <td>4.000</td>\n",
       "      <td>36</td>\n",
       "      <td>264</td>\n",
       "      <td>yes</td>\n",
       "      <td>train</td>\n",
       "    </tr>\n",
       "    <tr>\n",
       "      <th>6</th>\n",
       "      <td>0.00</td>\n",
       "      <td>0.00</td>\n",
       "      <td>0.00</td>\n",
       "      <td>0.0</td>\n",
       "      <td>0.00</td>\n",
       "      <td>0.00</td>\n",
       "      <td>0.00</td>\n",
       "      <td>0.00</td>\n",
       "      <td>0.00</td>\n",
       "      <td>0.00</td>\n",
       "      <td>...</td>\n",
       "      <td>0.000</td>\n",
       "      <td>0.000</td>\n",
       "      <td>0.000</td>\n",
       "      <td>0.000</td>\n",
       "      <td>0.000</td>\n",
       "      <td>1.300</td>\n",
       "      <td>3</td>\n",
       "      <td>13</td>\n",
       "      <td>no</td>\n",
       "      <td>train</td>\n",
       "    </tr>\n",
       "    <tr>\n",
       "      <th>7</th>\n",
       "      <td>0.00</td>\n",
       "      <td>0.00</td>\n",
       "      <td>1.85</td>\n",
       "      <td>0.0</td>\n",
       "      <td>0.00</td>\n",
       "      <td>0.00</td>\n",
       "      <td>0.00</td>\n",
       "      <td>0.00</td>\n",
       "      <td>0.00</td>\n",
       "      <td>1.85</td>\n",
       "      <td>...</td>\n",
       "      <td>0.000</td>\n",
       "      <td>0.000</td>\n",
       "      <td>0.692</td>\n",
       "      <td>0.000</td>\n",
       "      <td>0.000</td>\n",
       "      <td>1.727</td>\n",
       "      <td>5</td>\n",
       "      <td>19</td>\n",
       "      <td>no</td>\n",
       "      <td>train</td>\n",
       "    </tr>\n",
       "    <tr>\n",
       "      <th>8</th>\n",
       "      <td>0.00</td>\n",
       "      <td>0.00</td>\n",
       "      <td>0.53</td>\n",
       "      <td>0.0</td>\n",
       "      <td>0.00</td>\n",
       "      <td>0.53</td>\n",
       "      <td>0.00</td>\n",
       "      <td>0.00</td>\n",
       "      <td>0.00</td>\n",
       "      <td>0.53</td>\n",
       "      <td>...</td>\n",
       "      <td>0.101</td>\n",
       "      <td>0.000</td>\n",
       "      <td>0.000</td>\n",
       "      <td>0.000</td>\n",
       "      <td>0.000</td>\n",
       "      <td>1.857</td>\n",
       "      <td>16</td>\n",
       "      <td>52</td>\n",
       "      <td>no</td>\n",
       "      <td>train</td>\n",
       "    </tr>\n",
       "    <tr>\n",
       "      <th>9</th>\n",
       "      <td>0.40</td>\n",
       "      <td>0.40</td>\n",
       "      <td>0.26</td>\n",
       "      <td>0.0</td>\n",
       "      <td>0.13</td>\n",
       "      <td>0.20</td>\n",
       "      <td>0.06</td>\n",
       "      <td>0.33</td>\n",
       "      <td>0.00</td>\n",
       "      <td>1.14</td>\n",
       "      <td>...</td>\n",
       "      <td>0.088</td>\n",
       "      <td>0.000</td>\n",
       "      <td>1.060</td>\n",
       "      <td>0.151</td>\n",
       "      <td>0.050</td>\n",
       "      <td>4.623</td>\n",
       "      <td>123</td>\n",
       "      <td>1045</td>\n",
       "      <td>yes</td>\n",
       "      <td>train</td>\n",
       "    </tr>\n",
       "  </tbody>\n",
       "</table>\n",
       "<p>10 rows × 57 columns</p>\n",
       "</div>"
      ],
      "text/plain": [
       "   wf_make  wf_address  wf_all  wf_3d  wf_our  wf_over  wf_remove  \\\n",
       "0     0.00        0.52    0.52    0.0    0.52     0.00       0.00   \n",
       "1     0.00        0.00    0.00    0.0    0.00     0.00       0.00   \n",
       "2     0.00        0.00    0.66    0.0    0.00     0.66       0.00   \n",
       "3     0.08        0.00    0.16    0.0    0.00     0.08       0.00   \n",
       "4     0.00        0.00    0.00    0.0    0.00     0.00       0.00   \n",
       "5     0.00        0.36    0.00    0.0    0.00     0.36       1.47   \n",
       "6     0.00        0.00    0.00    0.0    0.00     0.00       0.00   \n",
       "7     0.00        0.00    1.85    0.0    0.00     0.00       0.00   \n",
       "8     0.00        0.00    0.53    0.0    0.00     0.53       0.00   \n",
       "9     0.40        0.40    0.26    0.0    0.13     0.20       0.06   \n",
       "\n",
       "   wf_internet  wf_order  wf_mail  ...  cf_bracket  cf_sqbracket  cf_exclam  \\\n",
       "0         0.00      0.00     0.00  ...       0.192         0.000      0.867   \n",
       "1         0.00      0.00     0.00  ...       0.000         0.000      0.398   \n",
       "2         0.00      0.00     0.00  ...       0.000         0.000      0.000   \n",
       "3         0.08      0.73     0.00  ...       0.172         0.057      0.000   \n",
       "4         0.00      0.00     0.00  ...       0.000         0.000      0.000   \n",
       "5         0.00      0.00     0.36  ...       0.183         0.000      0.367   \n",
       "6         0.00      0.00     0.00  ...       0.000         0.000      0.000   \n",
       "7         0.00      0.00     1.85  ...       0.000         0.000      0.692   \n",
       "8         0.00      0.00     0.53  ...       0.101         0.000      0.000   \n",
       "9         0.33      0.00     1.14  ...       0.088         0.000      1.060   \n",
       "\n",
       "   cf_dollar  cf_hash  capital_run_length_average  capital_run_length_longest  \\\n",
       "0      0.000    0.000                       2.220                          20   \n",
       "1      0.000    0.000                       1.181                           5   \n",
       "2      0.000    0.000                       1.142                           4   \n",
       "3      0.022    0.000                       3.212                          44   \n",
       "4      0.000    0.000                       1.000                           1   \n",
       "5      0.061    0.122                       4.000                          36   \n",
       "6      0.000    0.000                       1.300                           3   \n",
       "7      0.000    0.000                       1.727                           5   \n",
       "8      0.000    0.000                       1.857                          16   \n",
       "9      0.151    0.050                       4.623                         123   \n",
       "\n",
       "   capital_run_length_total  spam  status  \n",
       "0                       131   yes   train  \n",
       "1                        26    no   train  \n",
       "2                        56    no   train  \n",
       "3                       665    no   train  \n",
       "4                         3    no   train  \n",
       "5                       264   yes   train  \n",
       "6                        13    no   train  \n",
       "7                        19    no   train  \n",
       "8                        52    no   train  \n",
       "9                      1045   yes   train  \n",
       "\n",
       "[10 rows x 57 columns]"
      ]
     },
     "execution_count": 282,
     "metadata": {},
     "output_type": "execute_result"
    }
   ],
   "source": [
    "import pandas as pd\n",
    "\n",
    "\n",
    "df = pd.read_csv('spambase.txt', sep='\\t')\n",
    "\n",
    "\n",
    "df.head(10)"
   ]
  },
  {
   "cell_type": "code",
   "execution_count": 283,
   "metadata": {},
   "outputs": [
    {
     "name": "stdout",
     "output_type": "stream",
     "text": [
      "<class 'pandas.core.frame.DataFrame'>\n",
      "RangeIndex: 4601 entries, 0 to 4600\n",
      "Data columns (total 57 columns):\n",
      " #   Column                      Non-Null Count  Dtype  \n",
      "---  ------                      --------------  -----  \n",
      " 0   wf_make                     4601 non-null   float64\n",
      " 1   wf_address                  4601 non-null   float64\n",
      " 2   wf_all                      4601 non-null   float64\n",
      " 3   wf_3d                       4601 non-null   float64\n",
      " 4   wf_our                      4601 non-null   float64\n",
      " 5   wf_over                     4601 non-null   float64\n",
      " 6   wf_remove                   4601 non-null   float64\n",
      " 7   wf_internet                 4601 non-null   float64\n",
      " 8   wf_order                    4601 non-null   float64\n",
      " 9   wf_mail                     4601 non-null   float64\n",
      " 10  wf_receive                  4601 non-null   float64\n",
      " 11  wf_will                     4601 non-null   float64\n",
      " 12  wf_people                   4601 non-null   float64\n",
      " 13  wf_report                   4601 non-null   float64\n",
      " 14  wf_addresses                4601 non-null   float64\n",
      " 15  wf_free                     4601 non-null   float64\n",
      " 16  wf_business                 4601 non-null   float64\n",
      " 17  wf_email                    4601 non-null   float64\n",
      " 18  wf_you                      4601 non-null   float64\n",
      " 19  wf_credit                   4601 non-null   float64\n",
      " 20  wf_your                     4601 non-null   float64\n",
      " 21  wf_font                     4601 non-null   float64\n",
      " 22  wf_000                      4601 non-null   float64\n",
      " 23  wf_money                    4601 non-null   float64\n",
      " 24  wf_hp                       4601 non-null   float64\n",
      " 25  wf_hpl                      4601 non-null   float64\n",
      " 26  wf_lab                      4601 non-null   float64\n",
      " 27  wf_labs                     4601 non-null   float64\n",
      " 28  wf_telnet                   4601 non-null   float64\n",
      " 29  wf_857                      4601 non-null   float64\n",
      " 30  wf_data                     4601 non-null   float64\n",
      " 31  wf_415                      4601 non-null   float64\n",
      " 32  wf_85                       4601 non-null   float64\n",
      " 33  wf_technology               4601 non-null   float64\n",
      " 34  wf_1999                     4601 non-null   float64\n",
      " 35  wf_parts                    4601 non-null   float64\n",
      " 36  wf_pm                       4601 non-null   float64\n",
      " 37  wf_direct                   4601 non-null   float64\n",
      " 38  wf_cs                       4601 non-null   float64\n",
      " 39  wf_meeting                  4601 non-null   float64\n",
      " 40  wf_original                 4601 non-null   float64\n",
      " 41  wf_project                  4601 non-null   float64\n",
      " 42  wf_re                       4601 non-null   float64\n",
      " 43  wf_edu                      4601 non-null   float64\n",
      " 44  wf_table                    4601 non-null   float64\n",
      " 45  wf_conference               4601 non-null   float64\n",
      " 46  cf_comma                    4601 non-null   float64\n",
      " 47  cf_bracket                  4601 non-null   float64\n",
      " 48  cf_sqbracket                4601 non-null   float64\n",
      " 49  cf_exclam                   4601 non-null   float64\n",
      " 50  cf_dollar                   4601 non-null   float64\n",
      " 51  cf_hash                     4601 non-null   float64\n",
      " 52  capital_run_length_average  4601 non-null   float64\n",
      " 53  capital_run_length_longest  4601 non-null   int64  \n",
      " 54  capital_run_length_total    4601 non-null   int64  \n",
      " 55  spam                        4601 non-null   object \n",
      " 56  status                      4601 non-null   object \n",
      "dtypes: float64(53), int64(2), object(2)\n",
      "memory usage: 2.0+ MB\n"
     ]
    }
   ],
   "source": [
    "df.info()"
   ]
  },
  {
   "cell_type": "code",
   "execution_count": 284,
   "metadata": {},
   "outputs": [
    {
     "data": {
      "text/html": [
       "<div>\n",
       "<style scoped>\n",
       "    .dataframe tbody tr th:only-of-type {\n",
       "        vertical-align: middle;\n",
       "    }\n",
       "\n",
       "    .dataframe tbody tr th {\n",
       "        vertical-align: top;\n",
       "    }\n",
       "\n",
       "    .dataframe thead th {\n",
       "        text-align: right;\n",
       "    }\n",
       "</style>\n",
       "<table border=\"1\" class=\"dataframe\">\n",
       "  <thead>\n",
       "    <tr style=\"text-align: right;\">\n",
       "      <th></th>\n",
       "      <th>wf_make</th>\n",
       "      <th>wf_address</th>\n",
       "      <th>wf_all</th>\n",
       "      <th>wf_3d</th>\n",
       "      <th>wf_our</th>\n",
       "      <th>wf_over</th>\n",
       "      <th>wf_remove</th>\n",
       "      <th>wf_internet</th>\n",
       "      <th>wf_order</th>\n",
       "      <th>wf_mail</th>\n",
       "      <th>...</th>\n",
       "      <th>wf_conference</th>\n",
       "      <th>cf_comma</th>\n",
       "      <th>cf_bracket</th>\n",
       "      <th>cf_sqbracket</th>\n",
       "      <th>cf_exclam</th>\n",
       "      <th>cf_dollar</th>\n",
       "      <th>cf_hash</th>\n",
       "      <th>capital_run_length_average</th>\n",
       "      <th>capital_run_length_longest</th>\n",
       "      <th>capital_run_length_total</th>\n",
       "    </tr>\n",
       "  </thead>\n",
       "  <tbody>\n",
       "    <tr>\n",
       "      <th>0</th>\n",
       "      <td>0.00</td>\n",
       "      <td>0.52</td>\n",
       "      <td>0.52</td>\n",
       "      <td>0.0</td>\n",
       "      <td>0.52</td>\n",
       "      <td>0.00</td>\n",
       "      <td>0.00</td>\n",
       "      <td>0.00</td>\n",
       "      <td>0.00</td>\n",
       "      <td>0.00</td>\n",
       "      <td>...</td>\n",
       "      <td>0.0</td>\n",
       "      <td>0.000</td>\n",
       "      <td>0.192</td>\n",
       "      <td>0.000</td>\n",
       "      <td>0.867</td>\n",
       "      <td>0.000</td>\n",
       "      <td>0.000</td>\n",
       "      <td>2.220</td>\n",
       "      <td>20</td>\n",
       "      <td>131</td>\n",
       "    </tr>\n",
       "    <tr>\n",
       "      <th>1</th>\n",
       "      <td>0.00</td>\n",
       "      <td>0.00</td>\n",
       "      <td>0.00</td>\n",
       "      <td>0.0</td>\n",
       "      <td>0.00</td>\n",
       "      <td>0.00</td>\n",
       "      <td>0.00</td>\n",
       "      <td>0.00</td>\n",
       "      <td>0.00</td>\n",
       "      <td>0.00</td>\n",
       "      <td>...</td>\n",
       "      <td>0.0</td>\n",
       "      <td>0.000</td>\n",
       "      <td>0.000</td>\n",
       "      <td>0.000</td>\n",
       "      <td>0.398</td>\n",
       "      <td>0.000</td>\n",
       "      <td>0.000</td>\n",
       "      <td>1.181</td>\n",
       "      <td>5</td>\n",
       "      <td>26</td>\n",
       "    </tr>\n",
       "    <tr>\n",
       "      <th>2</th>\n",
       "      <td>0.00</td>\n",
       "      <td>0.00</td>\n",
       "      <td>0.66</td>\n",
       "      <td>0.0</td>\n",
       "      <td>0.00</td>\n",
       "      <td>0.66</td>\n",
       "      <td>0.00</td>\n",
       "      <td>0.00</td>\n",
       "      <td>0.00</td>\n",
       "      <td>0.00</td>\n",
       "      <td>...</td>\n",
       "      <td>0.0</td>\n",
       "      <td>0.000</td>\n",
       "      <td>0.000</td>\n",
       "      <td>0.000</td>\n",
       "      <td>0.000</td>\n",
       "      <td>0.000</td>\n",
       "      <td>0.000</td>\n",
       "      <td>1.142</td>\n",
       "      <td>4</td>\n",
       "      <td>56</td>\n",
       "    </tr>\n",
       "    <tr>\n",
       "      <th>3</th>\n",
       "      <td>0.08</td>\n",
       "      <td>0.00</td>\n",
       "      <td>0.16</td>\n",
       "      <td>0.0</td>\n",
       "      <td>0.00</td>\n",
       "      <td>0.08</td>\n",
       "      <td>0.00</td>\n",
       "      <td>0.08</td>\n",
       "      <td>0.73</td>\n",
       "      <td>0.00</td>\n",
       "      <td>...</td>\n",
       "      <td>0.0</td>\n",
       "      <td>0.126</td>\n",
       "      <td>0.172</td>\n",
       "      <td>0.057</td>\n",
       "      <td>0.000</td>\n",
       "      <td>0.022</td>\n",
       "      <td>0.000</td>\n",
       "      <td>3.212</td>\n",
       "      <td>44</td>\n",
       "      <td>665</td>\n",
       "    </tr>\n",
       "    <tr>\n",
       "      <th>4</th>\n",
       "      <td>0.00</td>\n",
       "      <td>0.00</td>\n",
       "      <td>0.00</td>\n",
       "      <td>0.0</td>\n",
       "      <td>0.00</td>\n",
       "      <td>0.00</td>\n",
       "      <td>0.00</td>\n",
       "      <td>0.00</td>\n",
       "      <td>0.00</td>\n",
       "      <td>0.00</td>\n",
       "      <td>...</td>\n",
       "      <td>0.0</td>\n",
       "      <td>0.000</td>\n",
       "      <td>0.000</td>\n",
       "      <td>0.000</td>\n",
       "      <td>0.000</td>\n",
       "      <td>0.000</td>\n",
       "      <td>0.000</td>\n",
       "      <td>1.000</td>\n",
       "      <td>1</td>\n",
       "      <td>3</td>\n",
       "    </tr>\n",
       "    <tr>\n",
       "      <th>...</th>\n",
       "      <td>...</td>\n",
       "      <td>...</td>\n",
       "      <td>...</td>\n",
       "      <td>...</td>\n",
       "      <td>...</td>\n",
       "      <td>...</td>\n",
       "      <td>...</td>\n",
       "      <td>...</td>\n",
       "      <td>...</td>\n",
       "      <td>...</td>\n",
       "      <td>...</td>\n",
       "      <td>...</td>\n",
       "      <td>...</td>\n",
       "      <td>...</td>\n",
       "      <td>...</td>\n",
       "      <td>...</td>\n",
       "      <td>...</td>\n",
       "      <td>...</td>\n",
       "      <td>...</td>\n",
       "      <td>...</td>\n",
       "      <td>...</td>\n",
       "    </tr>\n",
       "    <tr>\n",
       "      <th>4596</th>\n",
       "      <td>0.00</td>\n",
       "      <td>0.44</td>\n",
       "      <td>0.44</td>\n",
       "      <td>0.0</td>\n",
       "      <td>0.00</td>\n",
       "      <td>0.00</td>\n",
       "      <td>0.00</td>\n",
       "      <td>0.00</td>\n",
       "      <td>0.00</td>\n",
       "      <td>0.00</td>\n",
       "      <td>...</td>\n",
       "      <td>0.0</td>\n",
       "      <td>0.000</td>\n",
       "      <td>0.074</td>\n",
       "      <td>0.000</td>\n",
       "      <td>0.669</td>\n",
       "      <td>0.297</td>\n",
       "      <td>0.000</td>\n",
       "      <td>3.666</td>\n",
       "      <td>82</td>\n",
       "      <td>165</td>\n",
       "    </tr>\n",
       "    <tr>\n",
       "      <th>4597</th>\n",
       "      <td>0.28</td>\n",
       "      <td>0.14</td>\n",
       "      <td>0.14</td>\n",
       "      <td>0.0</td>\n",
       "      <td>0.00</td>\n",
       "      <td>0.00</td>\n",
       "      <td>0.14</td>\n",
       "      <td>0.00</td>\n",
       "      <td>0.42</td>\n",
       "      <td>0.00</td>\n",
       "      <td>...</td>\n",
       "      <td>0.0</td>\n",
       "      <td>0.000</td>\n",
       "      <td>0.000</td>\n",
       "      <td>0.137</td>\n",
       "      <td>0.045</td>\n",
       "      <td>0.342</td>\n",
       "      <td>1.233</td>\n",
       "      <td>14.880</td>\n",
       "      <td>79</td>\n",
       "      <td>1622</td>\n",
       "    </tr>\n",
       "    <tr>\n",
       "      <th>4598</th>\n",
       "      <td>0.00</td>\n",
       "      <td>0.00</td>\n",
       "      <td>0.00</td>\n",
       "      <td>0.0</td>\n",
       "      <td>0.00</td>\n",
       "      <td>0.00</td>\n",
       "      <td>0.00</td>\n",
       "      <td>0.00</td>\n",
       "      <td>0.00</td>\n",
       "      <td>0.00</td>\n",
       "      <td>...</td>\n",
       "      <td>0.0</td>\n",
       "      <td>0.000</td>\n",
       "      <td>0.000</td>\n",
       "      <td>0.000</td>\n",
       "      <td>0.000</td>\n",
       "      <td>0.000</td>\n",
       "      <td>0.000</td>\n",
       "      <td>2.000</td>\n",
       "      <td>3</td>\n",
       "      <td>4</td>\n",
       "    </tr>\n",
       "    <tr>\n",
       "      <th>4599</th>\n",
       "      <td>0.32</td>\n",
       "      <td>0.00</td>\n",
       "      <td>1.64</td>\n",
       "      <td>0.0</td>\n",
       "      <td>0.98</td>\n",
       "      <td>0.00</td>\n",
       "      <td>0.32</td>\n",
       "      <td>0.00</td>\n",
       "      <td>0.65</td>\n",
       "      <td>1.31</td>\n",
       "      <td>...</td>\n",
       "      <td>0.0</td>\n",
       "      <td>0.000</td>\n",
       "      <td>0.000</td>\n",
       "      <td>0.000</td>\n",
       "      <td>0.858</td>\n",
       "      <td>0.101</td>\n",
       "      <td>0.000</td>\n",
       "      <td>337.250</td>\n",
       "      <td>1146</td>\n",
       "      <td>1349</td>\n",
       "    </tr>\n",
       "    <tr>\n",
       "      <th>4600</th>\n",
       "      <td>0.00</td>\n",
       "      <td>0.00</td>\n",
       "      <td>0.00</td>\n",
       "      <td>0.0</td>\n",
       "      <td>0.43</td>\n",
       "      <td>0.43</td>\n",
       "      <td>0.43</td>\n",
       "      <td>0.00</td>\n",
       "      <td>0.00</td>\n",
       "      <td>0.43</td>\n",
       "      <td>...</td>\n",
       "      <td>0.0</td>\n",
       "      <td>0.000</td>\n",
       "      <td>0.000</td>\n",
       "      <td>0.000</td>\n",
       "      <td>0.065</td>\n",
       "      <td>0.000</td>\n",
       "      <td>1.047</td>\n",
       "      <td>9.269</td>\n",
       "      <td>89</td>\n",
       "      <td>482</td>\n",
       "    </tr>\n",
       "  </tbody>\n",
       "</table>\n",
       "<p>4601 rows × 55 columns</p>\n",
       "</div>"
      ],
      "text/plain": [
       "      wf_make  wf_address  wf_all  wf_3d  wf_our  wf_over  wf_remove  \\\n",
       "0        0.00        0.52    0.52    0.0    0.52     0.00       0.00   \n",
       "1        0.00        0.00    0.00    0.0    0.00     0.00       0.00   \n",
       "2        0.00        0.00    0.66    0.0    0.00     0.66       0.00   \n",
       "3        0.08        0.00    0.16    0.0    0.00     0.08       0.00   \n",
       "4        0.00        0.00    0.00    0.0    0.00     0.00       0.00   \n",
       "...       ...         ...     ...    ...     ...      ...        ...   \n",
       "4596     0.00        0.44    0.44    0.0    0.00     0.00       0.00   \n",
       "4597     0.28        0.14    0.14    0.0    0.00     0.00       0.14   \n",
       "4598     0.00        0.00    0.00    0.0    0.00     0.00       0.00   \n",
       "4599     0.32        0.00    1.64    0.0    0.98     0.00       0.32   \n",
       "4600     0.00        0.00    0.00    0.0    0.43     0.43       0.43   \n",
       "\n",
       "      wf_internet  wf_order  wf_mail  ...  wf_conference  cf_comma  \\\n",
       "0            0.00      0.00     0.00  ...            0.0     0.000   \n",
       "1            0.00      0.00     0.00  ...            0.0     0.000   \n",
       "2            0.00      0.00     0.00  ...            0.0     0.000   \n",
       "3            0.08      0.73     0.00  ...            0.0     0.126   \n",
       "4            0.00      0.00     0.00  ...            0.0     0.000   \n",
       "...           ...       ...      ...  ...            ...       ...   \n",
       "4596         0.00      0.00     0.00  ...            0.0     0.000   \n",
       "4597         0.00      0.42     0.00  ...            0.0     0.000   \n",
       "4598         0.00      0.00     0.00  ...            0.0     0.000   \n",
       "4599         0.00      0.65     1.31  ...            0.0     0.000   \n",
       "4600         0.00      0.00     0.43  ...            0.0     0.000   \n",
       "\n",
       "      cf_bracket  cf_sqbracket  cf_exclam  cf_dollar  cf_hash  \\\n",
       "0          0.192         0.000      0.867      0.000    0.000   \n",
       "1          0.000         0.000      0.398      0.000    0.000   \n",
       "2          0.000         0.000      0.000      0.000    0.000   \n",
       "3          0.172         0.057      0.000      0.022    0.000   \n",
       "4          0.000         0.000      0.000      0.000    0.000   \n",
       "...          ...           ...        ...        ...      ...   \n",
       "4596       0.074         0.000      0.669      0.297    0.000   \n",
       "4597       0.000         0.137      0.045      0.342    1.233   \n",
       "4598       0.000         0.000      0.000      0.000    0.000   \n",
       "4599       0.000         0.000      0.858      0.101    0.000   \n",
       "4600       0.000         0.000      0.065      0.000    1.047   \n",
       "\n",
       "      capital_run_length_average  capital_run_length_longest  \\\n",
       "0                          2.220                          20   \n",
       "1                          1.181                           5   \n",
       "2                          1.142                           4   \n",
       "3                          3.212                          44   \n",
       "4                          1.000                           1   \n",
       "...                          ...                         ...   \n",
       "4596                       3.666                          82   \n",
       "4597                      14.880                          79   \n",
       "4598                       2.000                           3   \n",
       "4599                     337.250                        1146   \n",
       "4600                       9.269                          89   \n",
       "\n",
       "      capital_run_length_total  \n",
       "0                          131  \n",
       "1                           26  \n",
       "2                           56  \n",
       "3                          665  \n",
       "4                            3  \n",
       "...                        ...  \n",
       "4596                       165  \n",
       "4597                      1622  \n",
       "4598                         4  \n",
       "4599                      1349  \n",
       "4600                       482  \n",
       "\n",
       "[4601 rows x 55 columns]"
      ]
     },
     "execution_count": 284,
     "metadata": {},
     "output_type": "execute_result"
    }
   ],
   "source": [
    "\n",
    "df_num = df.drop(columns=['spam', 'status'])\n",
    "df_num"
   ]
  },
  {
   "cell_type": "markdown",
   "metadata": {},
   "source": [
    "# 2 .repartistion de la base de donnees d'entrainement et de donnees de test  :"
   ]
  },
  {
   "cell_type": "code",
   "execution_count": 285,
   "metadata": {},
   "outputs": [],
   "source": [
    "spam_train_all=df[df.status==\"train\"]\n",
    "spam_test_all=df[df.status==\"test\"]\n",
    "\n",
    "X_train=spam_train_all.drop(columns=['spam', 'status'])\n",
    "X_test=spam_test_all.drop(columns=['spam', 'status'])\n",
    "\n"
   ]
  },
  {
   "cell_type": "markdown",
   "metadata": {},
   "source": [
    "# 3. Réalisez une standardisation des deux sous-ensembles des données"
   ]
  },
  {
   "cell_type": "code",
   "execution_count": 286,
   "metadata": {},
   "outputs": [
    {
     "data": {
      "text/html": [
       "<div>\n",
       "<style scoped>\n",
       "    .dataframe tbody tr th:only-of-type {\n",
       "        vertical-align: middle;\n",
       "    }\n",
       "\n",
       "    .dataframe tbody tr th {\n",
       "        vertical-align: top;\n",
       "    }\n",
       "\n",
       "    .dataframe thead th {\n",
       "        text-align: right;\n",
       "    }\n",
       "</style>\n",
       "<table border=\"1\" class=\"dataframe\">\n",
       "  <thead>\n",
       "    <tr style=\"text-align: right;\">\n",
       "      <th></th>\n",
       "      <th>wf_make</th>\n",
       "      <th>wf_address</th>\n",
       "      <th>wf_all</th>\n",
       "      <th>wf_3d</th>\n",
       "      <th>wf_our</th>\n",
       "      <th>wf_over</th>\n",
       "      <th>wf_remove</th>\n",
       "      <th>wf_internet</th>\n",
       "      <th>wf_order</th>\n",
       "      <th>wf_mail</th>\n",
       "      <th>...</th>\n",
       "      <th>cf_bracket</th>\n",
       "      <th>cf_sqbracket</th>\n",
       "      <th>cf_exclam</th>\n",
       "      <th>cf_dollar</th>\n",
       "      <th>cf_hash</th>\n",
       "      <th>capital_run_length_average</th>\n",
       "      <th>capital_run_length_longest</th>\n",
       "      <th>capital_run_length_total</th>\n",
       "      <th>spam</th>\n",
       "      <th>status</th>\n",
       "    </tr>\n",
       "  </thead>\n",
       "  <tbody>\n",
       "  </tbody>\n",
       "</table>\n",
       "<p>0 rows × 57 columns</p>\n",
       "</div>"
      ],
      "text/plain": [
       "Empty DataFrame\n",
       "Columns: [wf_make, wf_address, wf_all, wf_3d, wf_our, wf_over, wf_remove, wf_internet, wf_order, wf_mail, wf_receive, wf_will, wf_people, wf_report, wf_addresses, wf_free, wf_business, wf_email, wf_you, wf_credit, wf_your, wf_font, wf_000, wf_money, wf_hp, wf_hpl, wf_lab, wf_labs, wf_telnet, wf_857, wf_data, wf_415, wf_85, wf_technology, wf_1999, wf_parts, wf_pm, wf_direct, wf_cs, wf_meeting, wf_original, wf_project, wf_re, wf_edu, wf_table, wf_conference, cf_comma, cf_bracket, cf_sqbracket, cf_exclam, cf_dollar, cf_hash, capital_run_length_average, capital_run_length_longest, capital_run_length_total, spam, status]\n",
       "Index: []\n",
       "\n",
       "[0 rows x 57 columns]"
      ]
     },
     "execution_count": 286,
     "metadata": {},
     "output_type": "execute_result"
    }
   ],
   "source": [
    "#df.isnull().sum()\n",
    "\n",
    "missing_row = df[df.isnull().any(axis=1)]\n",
    "missing_row"
   ]
  },
  {
   "cell_type": "code",
   "execution_count": 287,
   "metadata": {},
   "outputs": [
    {
     "data": {
      "image/png": "[encoded data removed]",
      "text/plain": [
       "<Figure size 432x288 with 1 Axes>"
      ]
     },
     "metadata": {
      "needs_background": "light"
     },
     "output_type": "display_data"
    }
   ],
   "source": [
    "import seaborn as sns\n",
    "import matplotlib.pyplot as plt\n",
    "#on verifie si y a des outliers \n",
    "\n",
    "\n",
    "sns.boxplot(df[\"wf_make\"])\n",
    "\n",
    "# Show the plot\n",
    "plt.show()\n",
    "\n"
   ]
  },
  {
   "cell_type": "code",
   "execution_count": 288,
   "metadata": {},
   "outputs": [],
   "source": [
    "from sklearn.preprocessing import RobustScaler\n",
    "\n",
    "scaler = RobustScaler()\n",
    "\n",
    "X_train = scaler.fit_transform(X_train)\n",
    "X_test = scaler.fit_transform(X_test)\n",
    "\n",
    "\n"
   ]
  },
  {
   "cell_type": "code",
   "execution_count": 289,
   "metadata": {},
   "outputs": [
    {
     "name": "stdout",
     "output_type": "stream",
     "text": [
      "(3601, 55)\n",
      "(1000, 55)\n"
     ]
    }
   ],
   "source": [
    "print(X_train.shape)\n",
    "print(X_test.shape)\n"
   ]
  },
  {
   "cell_type": "markdown",
   "metadata": {},
   "source": [
    "# 4.Déterminez la taille des deux sous-ensembles de données"
   ]
  },
  {
   "cell_type": "code",
   "execution_count": 290,
   "metadata": {},
   "outputs": [
    {
     "name": "stdout",
     "output_type": "stream",
     "text": [
      "le nombre de vars est : 55\n",
      "le nombre de individual est : 1000\n"
     ]
    }
   ],
   "source": [
    "# donnees de test\n",
    "print(f\"le nombre de vars est : {X_test.shape[1]}\")\n",
    "print(f\"le nombre de individual est : {X_test.shape[0]}\")"
   ]
  },
  {
   "cell_type": "code",
   "execution_count": 291,
   "metadata": {},
   "outputs": [
    {
     "name": "stdout",
     "output_type": "stream",
     "text": [
      "le nombre de vars est : 55\n",
      "le nombre de individual est : 3601\n"
     ]
    }
   ],
   "source": [
    "# donnees d<entrainements \n",
    "print(f\"le nombre de vars est : {X_train.shape[1]}\")\n",
    "print(f\"le nombre de individual est : {X_train.shape[0]}\")"
   ]
  },
  {
   "cell_type": "code",
   "execution_count": null,
   "metadata": {},
   "outputs": [],
   "source": []
  },
  {
   "cell_type": "markdown",
   "metadata": {},
   "source": [
    "# 5. diagramme de dispersion de paires de variables par classes\n",
    "(spam), représentez la dispersion des 6 premières variables"
   ]
  },
  {
   "cell_type": "code",
   "execution_count": 292,
   "metadata": {},
   "outputs": [],
   "source": [
    "from pandas.plotting import scatter_matrix"
   ]
  },
  {
   "cell_type": "code",
   "execution_count": 293,
   "metadata": {},
   "outputs": [
    {
     "data": {
      "text/plain": [
       "array([[<matplotlib.axes._subplots.AxesSubplot object at 0x7fba9d73a160>,\n",
       "        <matplotlib.axes._subplots.AxesSubplot object at 0x7fba9da91cd0>,\n",
       "        <matplotlib.axes._subplots.AxesSubplot object at 0x7fba9d8a3430>,\n",
       "        <matplotlib.axes._subplots.AxesSubplot object at 0x7fba9d8edbb0>,\n",
       "        <matplotlib.axes._subplots.AxesSubplot object at 0x7fba9d922370>,\n",
       "        <matplotlib.axes._subplots.AxesSubplot object at 0x7fba9e297a30>],\n",
       "       [<matplotlib.axes._subplots.AxesSubplot object at 0x7fba9e297b20>,\n",
       "        <matplotlib.axes._subplots.AxesSubplot object at 0x7fbabb7be340>,\n",
       "        <matplotlib.axes._subplots.AxesSubplot object at 0x7fba9d97d1f0>,\n",
       "        <matplotlib.axes._subplots.AxesSubplot object at 0x7fba9d9a6970>,\n",
       "        <matplotlib.axes._subplots.AxesSubplot object at 0x7fba9e41d130>,\n",
       "        <matplotlib.axes._subplots.AxesSubplot object at 0x7fba9e4458b0>],\n",
       "       [<matplotlib.axes._subplots.AxesSubplot object at 0x7fba9e4700d0>,\n",
       "        <matplotlib.axes._subplots.AxesSubplot object at 0x7fba9e7d17f0>,\n",
       "        <matplotlib.axes._subplots.AxesSubplot object at 0x7fba9e7fbf70>,\n",
       "        <matplotlib.axes._subplots.AxesSubplot object at 0x7fba9e830730>,\n",
       "        <matplotlib.axes._subplots.AxesSubplot object at 0x7fba9e85ceb0>,\n",
       "        <matplotlib.axes._subplots.AxesSubplot object at 0x7fba9e892670>],\n",
       "       [<matplotlib.axes._subplots.AxesSubplot object at 0x7fba9e8bbdf0>,\n",
       "        <matplotlib.axes._subplots.AxesSubplot object at 0x7fba9e9585b0>,\n",
       "        <matplotlib.axes._subplots.AxesSubplot object at 0x7fba9e982d30>,\n",
       "        <matplotlib.axes._subplots.AxesSubplot object at 0x7fba9e9b94f0>,\n",
       "        <matplotlib.axes._subplots.AxesSubplot object at 0x7fba9e9e2c70>,\n",
       "        <matplotlib.axes._subplots.AxesSubplot object at 0x7fba9ea19430>],\n",
       "       [<matplotlib.axes._subplots.AxesSubplot object at 0x7fba9ea43bb0>,\n",
       "        <matplotlib.axes._subplots.AxesSubplot object at 0x7fba9ea7b370>,\n",
       "        <matplotlib.axes._subplots.AxesSubplot object at 0x7fba9eaa4af0>,\n",
       "        <matplotlib.axes._subplots.AxesSubplot object at 0x7fba9eada2b0>,\n",
       "        <matplotlib.axes._subplots.AxesSubplot object at 0x7fba9eb06a30>,\n",
       "        <matplotlib.axes._subplots.AxesSubplot object at 0x7fba9eb3d1f0>],\n",
       "       [<matplotlib.axes._subplots.AxesSubplot object at 0x7fba9eb65970>,\n",
       "        <matplotlib.axes._subplots.AxesSubplot object at 0x7fba9eb9e130>,\n",
       "        <matplotlib.axes._subplots.AxesSubplot object at 0x7fba9ebc68b0>,\n",
       "        <matplotlib.axes._subplots.AxesSubplot object at 0x7fba9ebf00d0>,\n",
       "        <matplotlib.axes._subplots.AxesSubplot object at 0x7fba9ec277f0>,\n",
       "        <matplotlib.axes._subplots.AxesSubplot object at 0x7fba9ec52f70>]],\n",
       "      dtype=object)"
      ]
     },
     "execution_count": 293,
     "metadata": {},
     "output_type": "execute_result"
    },
    {
     "data": {
      "text/plain": [
       "<Figure size 3600x3600 with 0 Axes>"
      ]
     },
     "metadata": {},
     "output_type": "display_data"
    },
    {
     "data": {
      "image/png": "[encoded data removed]",
      "text/plain": [
       "<Figure size 432x288 with 36 Axes>"
      ]
     },
     "metadata": {
      "needs_background": "light"
     },
     "output_type": "display_data"
    }
   ],
   "source": [
    "plt.figure(figsize=(50,50))\n",
    "featur = ['wf_make','wf_address','wf_all','wf_3d','wf_our','wf_over']\n",
    "scatter_matrix(df[featur])\n",
    "\n",
    "          "
   ]
  },
  {
   "cell_type": "markdown",
   "metadata": {},
   "source": [
    "#-6 des informations préliminaires sur l’importance\n",
    "(pouvoir discriminant) de ces variables"
   ]
  },
  {
   "cell_type": "markdown",
   "metadata": {},
   "source": [
    "#selons les graphes on remarque que y a une forte correlation entre certaines features comme wf_our et wf_all\n",
    "et d'autres qui ne l'ónt pas' comme wf_adresse et wf_3d"
   ]
  },
  {
   "cell_type": "code",
   "execution_count": null,
   "metadata": {},
   "outputs": [],
   "source": []
  },
  {
   "cell_type": "markdown",
   "metadata": {},
   "source": [
    "# etape 2 : "
   ]
  },
  {
   "cell_type": "markdown",
   "metadata": {},
   "source": [
    "# 1. Réalisez un encodage de la variable cible en vue d’une régression logistique.m"
   ]
  },
  {
   "cell_type": "code",
   "execution_count": 294,
   "metadata": {},
   "outputs": [],
   "source": [
    "dfetape2 = df.copy()\n",
    "from sklearn.preprocessing import LabelEncoder\n",
    "sc = RobustScaler()\n",
    "X = dfetape2['wf_cs']\n",
    "X = sc.fit_transform(pd.DataFrame(X))\n",
    "Y = dfetape2['spam']\n",
    "le = LabelEncoder()\n",
    "Y = le.fit_transform(Y)\n"
   ]
  },
  {
   "cell_type": "code",
   "execution_count": 295,
   "metadata": {},
   "outputs": [],
   "source": [
    "y_train =spam_train_all[\"spam\"].replace({'yes':1,'no':0})\n",
    "y_test =spam_test_all[\"spam\"].replace({'yes':1,'no':0})"
   ]
  },
  {
   "cell_type": "markdown",
   "metadata": {},
   "source": [
    "# 2.Représentez la dispersion de la variable cible (spam) encodée en fonction de la variable wf_cs."
   ]
  },
  {
   "cell_type": "code",
   "execution_count": 296,
   "metadata": {},
   "outputs": [
    {
     "data": {
      "image/png": "[encoded data removed]",
      "text/plain": [
       "<Figure size 864x288 with 1 Axes>"
      ]
     },
     "metadata": {
      "needs_background": "light"
     },
     "output_type": "display_data"
    }
   ],
   "source": [
    "plt.figure(figsize=(12,4))\n",
    "plt.scatter(X[Y==0,0], Y[Y==0], label=\"No\")\n",
    "plt.scatter(X[Y==1,0], Y[Y==1], label=\"Yes\", ) \n",
    "plt.xlabel('Y',fontsize=2)\n",
    "plt.ylabel('wf_csh',fontsize=20)\n",
    "plt.title('spam  en fonction de wf_csh' ,fontsize=20)\n",
    "plt.legend(loc=\"center right\", fontsize=20) \n",
    "plt.show()"
   ]
  },
  {
   "cell_type": "markdown",
   "metadata": {},
   "source": [
    "# 3.En considérant la variable wf_cs, entrainez un modèle de régressionlogistique sur l’ensemble des données d’entrainement (Standardisées).(random_state=20)"
   ]
  },
  {
   "cell_type": "code",
   "execution_count": 297,
   "metadata": {},
   "outputs": [
    {
     "data": {
      "text/plain": [
       "LogisticRegression(max_iter=1000, random_state=42)"
      ]
     },
     "execution_count": 297,
     "metadata": {},
     "output_type": "execute_result"
    }
   ],
   "source": [
    "from sklearn.linear_model import LogisticRegression\n",
    "from sklearn.model_selection import train_test_split\n",
    "\n",
    "\n",
    "\n",
    "# Crer le model regression logistique\n",
    "log_reg = LogisticRegression(max_iter =1000 ,random_state =42)\n",
    "\n",
    "# entrainement le model sur les donnees d'entrainement\n",
    "log_reg.fit(X_train, y_train)\n"
   ]
  },
  {
   "cell_type": "markdown",
   "metadata": {},
   "source": [
    "# 4 - Déterminez les paramètres du modèle et écrivez l’équation du modèle\n",
    "de régression."
   ]
  },
  {
   "cell_type": "code",
   "execution_count": 298,
   "metadata": {},
   "outputs": [
    {
     "name": "stdout",
     "output_type": "stream",
     "text": [
      "le coefficient est de valeur [[-1.87290172e-01 -1.15067551e-01  1.10009537e-01  1.07851947e+00\n",
      "   2.16634748e-01  6.03948059e-01  2.45363136e+00  7.48753840e-01\n",
      "   4.18500518e-01  2.55282565e-02  2.47255901e-02 -1.03119966e-01\n",
      "   1.89302183e-02  2.64029162e-01  4.95910157e-01  8.90255735e-02\n",
      "   1.18504276e+00  1.87208514e-01  2.85531887e-01  7.62840970e-01\n",
      "   3.05287916e-01  3.21204803e-01  1.91324071e+00  4.49413616e-01\n",
      "  -1.85399225e+00 -6.60353305e-01 -1.22947363e+00 -1.77671336e-01\n",
      "  -8.82663186e-01 -3.02224859e-01 -9.55006959e-01 -4.49905671e-01\n",
      "  -1.41920656e+00  7.22107870e-01 -3.44553385e-01 -9.69964453e-02\n",
      "  -4.55571443e-01 -7.06480127e-01 -1.42343030e+00 -1.60598278e+00\n",
      "  -1.02460694e+00 -1.17464882e+00 -9.66961469e-02 -1.41350335e+00\n",
      "  -9.11195491e-01 -1.65118299e+00 -1.21132868e+00 -1.83450736e-03\n",
      "  -4.57047751e-01  1.17541532e-01  3.77930232e-01  1.06815448e+00\n",
      "  -3.30052713e-02  3.51818406e-01  1.75750682e-01]]\n",
      "lintercept est de valeur [-1.55089411]\n"
     ]
    }
   ],
   "source": [
    "print(f\"le coefficient est de valeur {log_reg.coef_}\")\n",
    "print(f\"lintercept est de valeur {log_reg.intercept_}\")"
   ]
  },
  {
   "cell_type": "markdown",
   "metadata": {},
   "source": [
    "#5-la frontiere de decision "
   ]
  },
  {
   "cell_type": "markdown",
   "metadata": {},
   "source": [
    "#6- Déterminez la probabilité d’appartenance à la classe (spam) de l’observation\n",
    "dont la valeur de wf_cs = 1.07"
   ]
  },
  {
   "cell_type": "markdown",
   "metadata": {},
   "source": [
    "# ETAPE  3 :"
   ]
  },
  {
   "cell_type": "code",
   "execution_count": 299,
   "metadata": {
    "scrolled": true
   },
   "outputs": [
    {
     "name": "stdout",
     "output_type": "stream",
     "text": [
      "(3601, 55)\n",
      "(1000, 55)\n",
      "(3601,)\n",
      "(1000,)\n"
     ]
    }
   ],
   "source": [
    "print(X_train.shape)\n",
    "print(X_test.shape)\n",
    "print(y_train.shape)\n",
    "print(y_test.shape)"
   ]
  },
  {
   "cell_type": "code",
   "execution_count": 300,
   "metadata": {},
   "outputs": [],
   "source": [
    "from sklearn.linear_model import Perceptron\n",
    "from sklearn.model_selection import train_test_split\n"
   ]
  },
  {
   "cell_type": "markdown",
   "metadata": {},
   "source": [
    "# 1. En utilisant la libraire Sklearn, développez un perceptron simple pourprédire la classe (spam)(random_state=100, max_iter = 1500)."
   ]
  },
  {
   "cell_type": "code",
   "execution_count": 301,
   "metadata": {},
   "outputs": [
    {
     "data": {
      "text/plain": [
       "Perceptron(max_iter=1500, random_state=100)"
      ]
     },
     "execution_count": 301,
     "metadata": {},
     "output_type": "execute_result"
    }
   ],
   "source": [
    "# Créez un perceptron avec un état aléatoire de 100 et un nombre maximal d'itérations de 1500\n",
    "perceptron = Perceptron(random_state=100, max_iter=1500)\n",
    "\n",
    "# Entraînez le perceptron sur les données d'entraînement\n",
    "perceptron.fit(X_train, y_train)\n"
   ]
  },
  {
   "cell_type": "markdown",
   "metadata": {},
   "source": [
    "# 2. Représentez la matrice de confusion et évaluez les performances. Déterminez la valeur du score F1."
   ]
  },
  {
   "cell_type": "code",
   "execution_count": 302,
   "metadata": {},
   "outputs": [
    {
     "data": {
      "text/plain": [
       "<matplotlib.axes._subplots.AxesSubplot at 0x7fbab8a938b0>"
      ]
     },
     "execution_count": 302,
     "metadata": {},
     "output_type": "execute_result"
    },
    {
     "data": {
      "image/png": "[encoded data removed]",
      "text/plain": [
       "<Figure size 432x288 with 2 Axes>"
      ]
     },
     "metadata": {
      "needs_background": "light"
     },
     "output_type": "display_data"
    }
   ],
   "source": [
    "import seaborn as sns \n",
    "sns.heatmap(confusion_matrix ,annot=True)"
   ]
  },
  {
   "cell_type": "markdown",
   "metadata": {},
   "source": [
    "# 3. Quelle est la valeur du biais du modèle de perceptron obtenu ?"
   ]
  },
  {
   "cell_type": "code",
   "execution_count": 303,
   "metadata": {},
   "outputs": [
    {
     "name": "stdout",
     "output_type": "stream",
     "text": [
      "[[516  93]\n",
      " [ 55 336]]\n"
     ]
    }
   ],
   "source": [
    "from sklearn.metrics import confusion_matrix, classification_report\n",
    "from sklearn.linear_model import Perceptron\n",
    "\n",
    "# Utilisez le perceptron entraîné pour prédire \n",
    "y_pred = perceptron.predict(X_test)\n",
    "\n",
    "# Représentez la matrice de confusion en utilisant les étiquettes de classe prédites et réelles\n",
    "confusion_matrix = confusion_matrix(y_test, y_pred)\n",
    "print(confusion_matrix)\n"
   ]
  },
  {
   "cell_type": "code",
   "execution_count": 304,
   "metadata": {},
   "outputs": [
    {
     "data": {
      "text/plain": [
       "0.8797556234379339"
      ]
     },
     "execution_count": 304,
     "metadata": {},
     "output_type": "execute_result"
    }
   ],
   "source": [
    "perceptron.score(X_train,y_train )"
   ]
  },
  {
   "cell_type": "code",
   "execution_count": 305,
   "metadata": {},
   "outputs": [
    {
     "name": "stdout",
     "output_type": "stream",
     "text": [
      "[1 1 0 0 1 0 1 0 0 0 1 0 0 1 1 0 0 0 1 0 1 0 1 0 1 0 1 0 0 1 0 1 0 1 0 1 0\n",
      " 1 0 1 1 1 1 0 1 1 1 0 1 0 0 1 1 0 0 1 0 0 1 1 0 1 0 1 0 0 0 1 1 0 1 0 1 0\n",
      " 0 0 1 0 0 1 1 1 0 1 0 0 0 0 0 0 0 1 0 0 0 1 1 1 0 0 1 1 1 0 0 1 0 1 0 1 1\n",
      " 1 1 1 0 0 1 1 1 0 0 1 0 1 0 1 0 0 0 0 0 0 0 0 1 0 0 1 0 1 0 0 0 0 1 0 0 0\n",
      " 1 1 1 0 0 0 0 0 0 0 1 1 0 1 1 1 0 0 0 0 1 0 1 1 0 1 0 1 1 0 0 0 0 1 0 1 1\n",
      " 0 0 0 1 0 1 1 0 0 0 0 1 0 1 0 1 0 1 1 1 1 0 0 0 1 0 1 0 1 1 0 0 1 0 1 0 1\n",
      " 1 0 1 1 1 1 1 0 1 1 1 0 1 0 0 0 1 1 0 1 1 1 1 0 0 1 1 0 1 0 1 1 0 0 1 1 1\n",
      " 0 0 0 0 0 1 0 0 0 0 0 0 1 1 0 0 0 0 1 0 1 0 0 1 0 0 0 0 0 0 0 1 0 1 0 0 1\n",
      " 1 0 1 0 0 1 0 1 0 0 0 0 0 1 0 0 0 1 1 0 1 1 0 0 0 1 0 1 1 0 0 1 0 1 1 1 1\n",
      " 0 0 1 0 0 0 0 1 1 0 1 0 1 1 0 1 1 1 0 1 1 0 1 1 1 0 0 1 0 0 0 1 0 0 0 0 1\n",
      " 1 0 1 0 0 0 0 0 1 1 1 1 1 1 0 0 0 1 0 0 0 0 0 1 0 0 0 0 0 0 0 1 0 0 0 1 1\n",
      " 1 0 0 0 0 0 1 0 0 0 1 0 0 1 0 1 1 0 1 1 1 0 0 1 1 1 0 0 0 1 0 1 0 0 1 1 0\n",
      " 1 0 1 0 0 0 0 0 0 1 0 0 0 0 0 1 0 1 0 0 1 1 0 0 0 1 1 0 0 0 1 0 0 1 1 1 0\n",
      " 0 0 0 1 0 1 0 1 1 0 1 0 0 0 0 0 1 0 1 1 0 0 1 1 0 1 0 1 0 0 0 1 0 0 1 0 1\n",
      " 0 1 1 1 0 1 0 0 1 1 1 0 1 0 0 1 1 1 1 1 1 0 0 0 0 1 0 1 1 1 0 1 0 1 1 0 0\n",
      " 1 0 0 1 0 0 0 1 1 1 1 1 1 1 1 1 1 0 0 0 0 1 1 1 1 1 1 1 0 0 1 0 1 0 1 1 0\n",
      " 1 0 0 0 1 1 0 0 0 0 1 1 0 0 1 1 0 0 1 1 0 1 0 0 0 0 0 1 0 0 0 0 1 0 0 0 1\n",
      " 0 0 0 1 0 0 0 1 1 0 0 1 0 0 1 0 1 1 1 0 0 0 0 0 0 1 1 0 1 1 0 1 0 1 1 1 0\n",
      " 0 0 1 0 0 1 0 1 0 0 1 0 0 0 1 1 0 1 1 1 0 1 1 0 0 0 0 0 0 0 1 0 1 0 0 1 1\n",
      " 0 0 0 1 1 0 0 0 0 0 0 0 1 0 1 0 0 0 0 0 1 0 1 0 0 0 0 1 1 1 0 0 0 1 0 1 0\n",
      " 0 0 1 0 1 0 1 0 0 0 1 0 1 0 1 0 1 0 1 1 0 0 1 1 1 0 0 0 1 1 0 0 0 1 1 0 1\n",
      " 0 0 0 1 0 1 1 0 0 1 0 0 0 1 0 1 1 0 0 1 0 1 1 1 0 1 0 0 0 0 0 0 0 0 0 1 0\n",
      " 0 1 0 1 1 0 0 1 1 0 0 0 1 1 0 0 0 0 1 0 1 0 1 0 0 1 0 1 1 1 0 0 1 0 1 1 0\n",
      " 1 1 0 0 0 1 0 1 1 0 0 0 0 0 0 0 0 0 1 0 0 0 0 1 1 0 0 0 1 1 0 1 1 0 0 1 0\n",
      " 0 0 0 0 0 0 1 0 1 1 1 0 1 0 0 0 0 0 0 0 0 0 1 0 1 1 0 1 0 0 0 0 1 1 0 0 0\n",
      " 0 1 0 0 1 0 1 1 1 0 0 1 1 1 0 1 0 1 0 1 0 0 0 1 1 0 0 0 1 1 1 0 1 0 0 0 1\n",
      " 1 1 0 0 0 1 1 0 1 0 0 0 0 0 1 0 1 0 1 1 0 1 0 0 0 0 1 1 1 1 0 0 0 1 1 0 1\n",
      " 1]\n"
     ]
    }
   ],
   "source": [
    "pred=perceptron.predict(X_test)\n",
    "print(pred)"
   ]
  },
  {
   "cell_type": "code",
   "execution_count": 306,
   "metadata": {},
   "outputs": [
    {
     "name": "stdout",
     "output_type": "stream",
     "text": [
      "l'erreur esr  : 0.14800000000000002\n"
     ]
    }
   ],
   "source": [
    "from sklearn.metrics import accuracy_score\n",
    "import sklearn.metrics as metrics\n",
    "print(\"l'erreur esr  : \"+str(1-metrics.accuracy_score(y_test,pred)))"
   ]
  },
  {
   "cell_type": "markdown",
   "metadata": {},
   "source": [
    "# 4. Combien de paramètres possède ce modèle. Pourquoi ?"
   ]
  },
  {
   "cell_type": "code",
   "execution_count": 307,
   "metadata": {},
   "outputs": [
    {
     "name": "stdout",
     "output_type": "stream",
     "text": [
      "le nombre de paramètres possède ce modèle {55}\n"
     ]
    }
   ],
   "source": [
    "parametres = perceptron.coef_.shape[1]\n",
    "print(\"le nombre de paramètres possède ce modèle\" , {parametres})"
   ]
  },
  {
   "cell_type": "markdown",
   "metadata": {},
   "source": [
    "#notre model a 55 parametres , le nombre de paramètres est égal au nombre de coefficients de régression \n",
    "#on a 55 descripteurs "
   ]
  },
  {
   "cell_type": "markdown",
   "metadata": {},
   "source": [
    "# 5. En se basant sur les poids synaptique, réalisez un ordonnancement de\n",
    "l’importance des caractéristiques. Justifiez la faisabilité de l’ordonnancement\n",
    "des caractéristiques à partir des poids synaptiques."
   ]
  },
  {
   "cell_type": "code",
   "execution_count": 308,
   "metadata": {},
   "outputs": [],
   "source": [
    "car = perceptron.coef_\n",
    "car\n",
    "cdf=pd.DataFrame(columns = ['variable','poids'])\n",
    "j = -1\n",
    "for i in  perceptron.coef_:\n",
    "    for a in i:\n",
    "        j = j+1\n",
    "        cdf.loc[j]=[df.columns[j],a]"
   ]
  },
  {
   "cell_type": "code",
   "execution_count": 309,
   "metadata": {},
   "outputs": [
    {
     "data": {
      "text/html": [
       "<div>\n",
       "<style scoped>\n",
       "    .dataframe tbody tr th:only-of-type {\n",
       "        vertical-align: middle;\n",
       "    }\n",
       "\n",
       "    .dataframe tbody tr th {\n",
       "        vertical-align: top;\n",
       "    }\n",
       "\n",
       "    .dataframe thead th {\n",
       "        text-align: right;\n",
       "    }\n",
       "</style>\n",
       "<table border=\"1\" class=\"dataframe\">\n",
       "  <thead>\n",
       "    <tr style=\"text-align: right;\">\n",
       "      <th></th>\n",
       "      <th>variable</th>\n",
       "      <th>poids</th>\n",
       "    </tr>\n",
       "  </thead>\n",
       "  <tbody>\n",
       "    <tr>\n",
       "      <th>24</th>\n",
       "      <td>wf_hp</td>\n",
       "      <td>-150.460000</td>\n",
       "    </tr>\n",
       "    <tr>\n",
       "      <th>37</th>\n",
       "      <td>wf_direct</td>\n",
       "      <td>-103.060000</td>\n",
       "    </tr>\n",
       "    <tr>\n",
       "      <th>39</th>\n",
       "      <td>wf_meeting</td>\n",
       "      <td>-99.570000</td>\n",
       "    </tr>\n",
       "    <tr>\n",
       "      <th>43</th>\n",
       "      <td>wf_edu</td>\n",
       "      <td>-84.810000</td>\n",
       "    </tr>\n",
       "    <tr>\n",
       "      <th>32</th>\n",
       "      <td>wf_85</td>\n",
       "      <td>-74.280000</td>\n",
       "    </tr>\n",
       "    <tr>\n",
       "      <th>46</th>\n",
       "      <td>cf_comma</td>\n",
       "      <td>-64.514000</td>\n",
       "    </tr>\n",
       "    <tr>\n",
       "      <th>25</th>\n",
       "      <td>wf_hpl</td>\n",
       "      <td>-60.240000</td>\n",
       "    </tr>\n",
       "    <tr>\n",
       "      <th>30</th>\n",
       "      <td>wf_data</td>\n",
       "      <td>-57.450000</td>\n",
       "    </tr>\n",
       "    <tr>\n",
       "      <th>28</th>\n",
       "      <td>wf_telnet</td>\n",
       "      <td>-56.230000</td>\n",
       "    </tr>\n",
       "    <tr>\n",
       "      <th>45</th>\n",
       "      <td>wf_conference</td>\n",
       "      <td>-50.870000</td>\n",
       "    </tr>\n",
       "    <tr>\n",
       "      <th>41</th>\n",
       "      <td>wf_project</td>\n",
       "      <td>-48.870000</td>\n",
       "    </tr>\n",
       "    <tr>\n",
       "      <th>38</th>\n",
       "      <td>wf_cs</td>\n",
       "      <td>-47.730000</td>\n",
       "    </tr>\n",
       "    <tr>\n",
       "      <th>26</th>\n",
       "      <td>wf_lab</td>\n",
       "      <td>-45.180000</td>\n",
       "    </tr>\n",
       "    <tr>\n",
       "      <th>42</th>\n",
       "      <td>wf_re</td>\n",
       "      <td>-40.000000</td>\n",
       "    </tr>\n",
       "    <tr>\n",
       "      <th>34</th>\n",
       "      <td>wf_1999</td>\n",
       "      <td>-38.570000</td>\n",
       "    </tr>\n",
       "    <tr>\n",
       "      <th>40</th>\n",
       "      <td>wf_original</td>\n",
       "      <td>-34.150000</td>\n",
       "    </tr>\n",
       "    <tr>\n",
       "      <th>9</th>\n",
       "      <td>wf_mail</td>\n",
       "      <td>-32.888889</td>\n",
       "    </tr>\n",
       "    <tr>\n",
       "      <th>48</th>\n",
       "      <td>cf_sqbracket</td>\n",
       "      <td>-32.647000</td>\n",
       "    </tr>\n",
       "    <tr>\n",
       "      <th>54</th>\n",
       "      <td>capital_run_length_total</td>\n",
       "      <td>-29.414634</td>\n",
       "    </tr>\n",
       "    <tr>\n",
       "      <th>36</th>\n",
       "      <td>wf_pm</td>\n",
       "      <td>-28.780000</td>\n",
       "    </tr>\n",
       "    <tr>\n",
       "      <th>47</th>\n",
       "      <td>cf_bracket</td>\n",
       "      <td>-23.730159</td>\n",
       "    </tr>\n",
       "    <tr>\n",
       "      <th>27</th>\n",
       "      <td>wf_labs</td>\n",
       "      <td>-13.430000</td>\n",
       "    </tr>\n",
       "    <tr>\n",
       "      <th>44</th>\n",
       "      <td>wf_table</td>\n",
       "      <td>-9.570000</td>\n",
       "    </tr>\n",
       "    <tr>\n",
       "      <th>29</th>\n",
       "      <td>wf_857</td>\n",
       "      <td>-8.280000</td>\n",
       "    </tr>\n",
       "    <tr>\n",
       "      <th>21</th>\n",
       "      <td>wf_font</td>\n",
       "      <td>-7.010000</td>\n",
       "    </tr>\n",
       "    <tr>\n",
       "      <th>31</th>\n",
       "      <td>wf_415</td>\n",
       "      <td>-6.970000</td>\n",
       "    </tr>\n",
       "    <tr>\n",
       "      <th>0</th>\n",
       "      <td>wf_make</td>\n",
       "      <td>-6.730000</td>\n",
       "    </tr>\n",
       "    <tr>\n",
       "      <th>10</th>\n",
       "      <td>wf_receive</td>\n",
       "      <td>-5.910000</td>\n",
       "    </tr>\n",
       "    <tr>\n",
       "      <th>12</th>\n",
       "      <td>wf_people</td>\n",
       "      <td>-2.620000</td>\n",
       "    </tr>\n",
       "    <tr>\n",
       "      <th>11</th>\n",
       "      <td>wf_will</td>\n",
       "      <td>0.075949</td>\n",
       "    </tr>\n",
       "    <tr>\n",
       "      <th>35</th>\n",
       "      <td>wf_parts</td>\n",
       "      <td>1.800000</td>\n",
       "    </tr>\n",
       "    <tr>\n",
       "      <th>20</th>\n",
       "      <td>wf_your</td>\n",
       "      <td>2.676923</td>\n",
       "    </tr>\n",
       "    <tr>\n",
       "      <th>1</th>\n",
       "      <td>wf_address</td>\n",
       "      <td>4.050000</td>\n",
       "    </tr>\n",
       "    <tr>\n",
       "      <th>51</th>\n",
       "      <td>cf_hash</td>\n",
       "      <td>4.664000</td>\n",
       "    </tr>\n",
       "    <tr>\n",
       "      <th>23</th>\n",
       "      <td>wf_money</td>\n",
       "      <td>5.690000</td>\n",
       "    </tr>\n",
       "    <tr>\n",
       "      <th>15</th>\n",
       "      <td>wf_free</td>\n",
       "      <td>7.250000</td>\n",
       "    </tr>\n",
       "    <tr>\n",
       "      <th>17</th>\n",
       "      <td>wf_email</td>\n",
       "      <td>8.140000</td>\n",
       "    </tr>\n",
       "    <tr>\n",
       "      <th>8</th>\n",
       "      <td>wf_order</td>\n",
       "      <td>11.790000</td>\n",
       "    </tr>\n",
       "    <tr>\n",
       "      <th>53</th>\n",
       "      <td>capital_run_length_longest</td>\n",
       "      <td>13.666667</td>\n",
       "    </tr>\n",
       "    <tr>\n",
       "      <th>13</th>\n",
       "      <td>wf_report</td>\n",
       "      <td>15.520000</td>\n",
       "    </tr>\n",
       "    <tr>\n",
       "      <th>2</th>\n",
       "      <td>wf_all</td>\n",
       "      <td>21.095238</td>\n",
       "    </tr>\n",
       "    <tr>\n",
       "      <th>18</th>\n",
       "      <td>wf_you</td>\n",
       "      <td>28.235741</td>\n",
       "    </tr>\n",
       "    <tr>\n",
       "      <th>49</th>\n",
       "      <td>cf_exclam</td>\n",
       "      <td>29.231481</td>\n",
       "    </tr>\n",
       "    <tr>\n",
       "      <th>5</th>\n",
       "      <td>wf_over</td>\n",
       "      <td>29.570000</td>\n",
       "    </tr>\n",
       "    <tr>\n",
       "      <th>50</th>\n",
       "      <td>cf_dollar</td>\n",
       "      <td>33.192982</td>\n",
       "    </tr>\n",
       "    <tr>\n",
       "      <th>3</th>\n",
       "      <td>wf_3d</td>\n",
       "      <td>38.180000</td>\n",
       "    </tr>\n",
       "    <tr>\n",
       "      <th>14</th>\n",
       "      <td>wf_addresses</td>\n",
       "      <td>38.850000</td>\n",
       "    </tr>\n",
       "    <tr>\n",
       "      <th>4</th>\n",
       "      <td>wf_our</td>\n",
       "      <td>40.641026</td>\n",
       "    </tr>\n",
       "    <tr>\n",
       "      <th>33</th>\n",
       "      <td>wf_technology</td>\n",
       "      <td>47.170000</td>\n",
       "    </tr>\n",
       "    <tr>\n",
       "      <th>19</th>\n",
       "      <td>wf_credit</td>\n",
       "      <td>52.870000</td>\n",
       "    </tr>\n",
       "    <tr>\n",
       "      <th>16</th>\n",
       "      <td>wf_business</td>\n",
       "      <td>83.510000</td>\n",
       "    </tr>\n",
       "    <tr>\n",
       "      <th>7</th>\n",
       "      <td>wf_internet</td>\n",
       "      <td>89.310000</td>\n",
       "    </tr>\n",
       "    <tr>\n",
       "      <th>22</th>\n",
       "      <td>wf_000</td>\n",
       "      <td>90.920000</td>\n",
       "    </tr>\n",
       "    <tr>\n",
       "      <th>6</th>\n",
       "      <td>wf_remove</td>\n",
       "      <td>141.210000</td>\n",
       "    </tr>\n",
       "    <tr>\n",
       "      <th>52</th>\n",
       "      <td>capital_run_length_average</td>\n",
       "      <td>423.124186</td>\n",
       "    </tr>\n",
       "  </tbody>\n",
       "</table>\n",
       "</div>"
      ],
      "text/plain": [
       "                      variable       poids\n",
       "24                       wf_hp -150.460000\n",
       "37                   wf_direct -103.060000\n",
       "39                  wf_meeting  -99.570000\n",
       "43                      wf_edu  -84.810000\n",
       "32                       wf_85  -74.280000\n",
       "46                    cf_comma  -64.514000\n",
       "25                      wf_hpl  -60.240000\n",
       "30                     wf_data  -57.450000\n",
       "28                   wf_telnet  -56.230000\n",
       "45               wf_conference  -50.870000\n",
       "41                  wf_project  -48.870000\n",
       "38                       wf_cs  -47.730000\n",
       "26                      wf_lab  -45.180000\n",
       "42                       wf_re  -40.000000\n",
       "34                     wf_1999  -38.570000\n",
       "40                 wf_original  -34.150000\n",
       "9                      wf_mail  -32.888889\n",
       "48                cf_sqbracket  -32.647000\n",
       "54    capital_run_length_total  -29.414634\n",
       "36                       wf_pm  -28.780000\n",
       "47                  cf_bracket  -23.730159\n",
       "27                     wf_labs  -13.430000\n",
       "44                    wf_table   -9.570000\n",
       "29                      wf_857   -8.280000\n",
       "21                     wf_font   -7.010000\n",
       "31                      wf_415   -6.970000\n",
       "0                      wf_make   -6.730000\n",
       "10                  wf_receive   -5.910000\n",
       "12                   wf_people   -2.620000\n",
       "11                     wf_will    0.075949\n",
       "35                    wf_parts    1.800000\n",
       "20                     wf_your    2.676923\n",
       "1                   wf_address    4.050000\n",
       "51                     cf_hash    4.664000\n",
       "23                    wf_money    5.690000\n",
       "15                     wf_free    7.250000\n",
       "17                    wf_email    8.140000\n",
       "8                     wf_order   11.790000\n",
       "53  capital_run_length_longest   13.666667\n",
       "13                   wf_report   15.520000\n",
       "2                       wf_all   21.095238\n",
       "18                      wf_you   28.235741\n",
       "49                   cf_exclam   29.231481\n",
       "5                      wf_over   29.570000\n",
       "50                   cf_dollar   33.192982\n",
       "3                        wf_3d   38.180000\n",
       "14                wf_addresses   38.850000\n",
       "4                       wf_our   40.641026\n",
       "33               wf_technology   47.170000\n",
       "19                   wf_credit   52.870000\n",
       "16                 wf_business   83.510000\n",
       "7                  wf_internet   89.310000\n",
       "22                      wf_000   90.920000\n",
       "6                    wf_remove  141.210000\n",
       "52  capital_run_length_average  423.124186"
      ]
     },
     "execution_count": 309,
     "metadata": {},
     "output_type": "execute_result"
    }
   ],
   "source": [
    "cdf.sort_values(by = 'poids')"
   ]
  },
  {
   "cell_type": "code",
   "execution_count": 310,
   "metadata": {},
   "outputs": [
    {
     "data": {
      "text/plain": [
       "array([-45.])"
      ]
     },
     "execution_count": 310,
     "metadata": {},
     "output_type": "execute_result"
    }
   ],
   "source": [
    "perceptron.intercept_"
   ]
  },
  {
   "cell_type": "markdown",
   "metadata": {},
   "source": [
    "# 6. Représentez graphiquement l’importance des caractéristiques. Interprétez\n",
    "les résultats. Quelles sont les caractéristiques les plus importantes\n",
    "(discriminantes).\n",
    "2"
   ]
  },
  {
   "cell_type": "code",
   "execution_count": 311,
   "metadata": {},
   "outputs": [
    {
     "data": {
      "image/png": "[encoded data removed]",
      "text/plain": [
       "<Figure size 1440x432 with 1 Axes>"
      ]
     },
     "metadata": {
      "needs_background": "light"
     },
     "output_type": "display_data"
    }
   ],
   "source": [
    "fi = plt.subplots(figsize=(20,6))\n",
    "sns.barplot(x=\"variable\",y=\"poids\",data=cdf ,color='red')\n",
    "plt.show()"
   ]
  },
  {
   "cell_type": "markdown",
   "metadata": {},
   "source": [
    "les caractreistique les plus importantes sont : wf_technology\t47.170000\n",
    "wf_credit\n",
    "wf_business\n",
    "wf_internet\n",
    "wf_000\n",
    "wf_remove\n",
    "capital_run_length_average"
   ]
  },
  {
   "cell_type": "markdown",
   "metadata": {},
   "source": [
    "# 7 . En utilisant la libraire Sklearn, développez un perceptron multicouche\n",
    "(hidden_layer_sizes=(2),activation=’logistic’,random_state=100\n",
    ",max_iter=1500)."
   ]
  },
  {
   "cell_type": "code",
   "execution_count": 312,
   "metadata": {},
   "outputs": [
    {
     "name": "stdout",
     "output_type": "stream",
     "text": [
      "Accuracy:  0.915\n"
     ]
    }
   ],
   "source": [
    "import numpy as np\n",
    "from sklearn.neural_network import MLPClassifier\n",
    "\n",
    "\n",
    "# Creation  du modèle de perceptron multicouche\n",
    "mlp = MLPClassifier(hidden_layer_sizes=(2), activation='logistic',  random_state=100, max_iter=1500)\n",
    "\n",
    "# on entraine le modèle sur les données d'entraînement\n",
    "mlp.fit(X_train, y_train)\n",
    "\n",
    "# on Évalue le modèle sur les données de test\n",
    "accuracy = mlp.score(X_test, y_test)\n",
    "print(\"Accuracy: \", accuracy)\n"
   ]
  },
  {
   "cell_type": "markdown",
   "metadata": {},
   "source": [
    "# 8. Représentez la matrice de confusion et évaluez les performances."
   ]
  },
  {
   "cell_type": "code",
   "execution_count": 313,
   "metadata": {},
   "outputs": [
    {
     "data": {
      "image/png": "[encoded data removed]",
      "text/plain": [
       "<Figure size 432x288 with 2 Axes>"
      ]
     },
     "metadata": {
      "needs_background": "light"
     },
     "output_type": "display_data"
    }
   ],
   "source": [
    "mat_confu =metrics.plot_confusion_matrix(mlp,X_test,y_test)"
   ]
  },
  {
   "cell_type": "markdown",
   "metadata": {},
   "source": [
    "# 9 .comparez les performances du perceptron simple avec le perceptron multicouche : "
   ]
  },
  {
   "cell_type": "code",
   "execution_count": 314,
   "metadata": {},
   "outputs": [
    {
     "name": "stdout",
     "output_type": "stream",
     "text": [
      "le score du perceptron multicouche est   : 0.915\n",
      "le nscore du perceptron simple  est : 0.852\n"
     ]
    }
   ],
   "source": [
    "print(f\"le score du perceptron multicouche est   : {mlp.score(X_test,y_test)}\")\n",
    "print(f\"le nscore du perceptron simple  est : {perceptron.score(X_test,y_test)}\")"
   ]
  },
  {
   "cell_type": "markdown",
   "metadata": {},
   "source": [
    "#les performances :"
   ]
  },
  {
   "cell_type": "code",
   "execution_count": 315,
   "metadata": {},
   "outputs": [
    {
     "name": "stdout",
     "output_type": "stream",
     "text": [
      "              precision    recall  f1-score   support\n",
      "\n",
      "           0       0.90      0.85      0.87       609\n",
      "           1       0.78      0.86      0.82       391\n",
      "\n",
      "    accuracy                           0.85      1000\n",
      "   macro avg       0.84      0.85      0.85      1000\n",
      "weighted avg       0.86      0.85      0.85      1000\n",
      "\n"
     ]
    }
   ],
   "source": [
    "from sklearn.metrics import classification_report \n",
    "#performances perceptron simple\n",
    "per= perceptron.predict(X_test)\n",
    "\n",
    "print(classification_report(y_test,per))"
   ]
  },
  {
   "cell_type": "code",
   "execution_count": 316,
   "metadata": {},
   "outputs": [
    {
     "name": "stdout",
     "output_type": "stream",
     "text": [
      "              precision    recall  f1-score   support\n",
      "\n",
      "           0       0.92      0.94      0.93       609\n",
      "           1       0.91      0.87      0.89       391\n",
      "\n",
      "    accuracy                           0.92      1000\n",
      "   macro avg       0.91      0.91      0.91      1000\n",
      "weighted avg       0.91      0.92      0.91      1000\n",
      "\n"
     ]
    }
   ],
   "source": [
    "#performances multicouches \n",
    "ppper= mlp.predict(X_test)\n",
    "print(classification_report(y_test,ppper))"
   ]
  },
  {
   "cell_type": "markdown",
   "metadata": {},
   "source": [
    "# on remarque que les performance dans le perceptron multicouche est bcp plus elevee que le perceptron simple "
   ]
  },
  {
   "cell_type": "markdown",
   "metadata": {},
   "source": [
    "# 10 .la variation de la fonction perte du perceptron multicouches en fonction du nombre díteration :"
   ]
  },
  {
   "cell_type": "code",
   "execution_count": 317,
   "metadata": {},
   "outputs": [
    {
     "data": {
      "text/plain": [
       "<matplotlib.axes._subplots.AxesSubplot at 0x7fba9d8175e0>"
      ]
     },
     "execution_count": 317,
     "metadata": {},
     "output_type": "execute_result"
    },
    {
     "data": {
      "image/png": "[encoded data removed]",
      "text/plain": [
       "<Figure size 432x288 with 1 Axes>"
      ]
     },
     "metadata": {
      "needs_background": "light"
     },
     "output_type": "display_data"
    }
   ],
   "source": [
    "pd.DataFrame(mlp.loss_curve_).plot()"
   ]
  },
  {
   "cell_type": "code",
   "execution_count": null,
   "metadata": {},
   "outputs": [],
   "source": []
  },
  {
   "cell_type": "code",
   "execution_count": null,
   "metadata": {},
   "outputs": [],
   "source": []
  }
 ],
 "metadata": {
  "kernelspec": {
   "display_name": "Python 3",
   "language": "python",
   "name": "python3"
  },
  "language_info": {
   "codemirror_mode": {
    "name": "ipython",
    "version": 3
   },
   "file_extension": ".py",
   "mimetype": "text/x-python",
   "name": "python",
   "nbconvert_exporter": "python",
   "pygments_lexer": "ipython3",
   "version": "3.8.3"
  }
 },
 "nbformat": 4,
 "nbformat_minor": 4
}
